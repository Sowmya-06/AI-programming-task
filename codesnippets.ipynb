{
 "cells": [
  {
   "cell_type": "code",
   "execution_count": null,
   "metadata": {},
   "outputs": [],
   "source": []
  },
  {
   "cell_type": "code",
   "execution_count": null,
   "metadata": {},
   "outputs": [],
   "source": [
    "def my_fun():\n",
    "    List1 = [“Hi”, 1, “Hello”, 2, 5]\n",
    "    print(“The elements of List is: “, List)\n",
    "    List.append(“Python”)\n",
    "    print(“List after appending the String is: “, List)\n",
    "    List.append([“one”, “two”, 3])\n",
    "    print(“List after appending the list is: “, List)\n",
    "    List2 = [“Apple”, “Orange”, 2, 8]\n",
    "    List1.extend(List2)\n",
    "    print(“List1 after extending the List2 is: “, List1)\n",
    " \n",
    " \n",
    "if __name__ == “__main__”:\n",
    "    my_fun()"
   ]
  },
  {
   "cell_type": "code",
   "execution_count": null,
   "metadata": {},
   "outputs": [],
   "source": [
    "List = [1, 2, 3, 4, 5, 6, 7]\n",
    "print(“List before removing a element is: “, List)\n",
    "List.remove(3)\n",
    "print(“List after removing a element is: “, List)\n",
    "List.pop()\n",
    "print(“List after poping the element is: “, List)"
   ]
  },
  {
   "cell_type": "code",
   "execution_count": null,
   "metadata": {},
   "outputs": [],
   "source": []
  }
 ],
 "metadata": {
  "kernelspec": {
   "display_name": "Python 3",
   "language": "python",
   "name": "python3"
  },
  "language_info": {
   "codemirror_mode": {
    "name": "ipython",
    "version": 3
   },
   "file_extension": ".py",
   "mimetype": "text/x-python",
   "name": "python",
   "nbconvert_exporter": "python",
   "pygments_lexer": "ipython3",
   "version": "3.7.6"
  }
 },
 "nbformat": 4,
 "nbformat_minor": 4
}
