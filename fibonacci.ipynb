{
 "cells": [
  {
   "cell_type": "code",
   "execution_count": 1,
   "metadata": {},
   "outputs": [
    {
     "name": "stdout",
     "output_type": "stream",
     "text": [
      "Enter 'x' for exit.\n",
      "Upto how many terms ? 3\n",
      "\n",
      "0 , 1,1,"
     ]
    }
   ],
   "source": [
    "print(\"Enter 'x' for exit.\");\n",
    "terms = input(\"Upto how many terms ? \");\n",
    "if terms == 'x':\n",
    "    exit();\n",
    "else:\n",
    "    term = int(terms);\n",
    "    a = 0;\n",
    "    b = 1;\n",
    "    count = 2;\n",
    "    print();\n",
    "    if term == 0:\n",
    "        print(\"Please enter a number...exiting...\");\n",
    "    elif term < 0:\n",
    "        print(\"Please enter a positive number...exiting..\");\n",
    "    elif term == 1:\n",
    "        print(a);\n",
    "    else:\n",
    "        print(a,\",\",b,end=\",\");\n",
    "        while count < term:\n",
    "            c = a + b;\n",
    "            print(c,end=\",\");\n",
    "            a = b;\n",
    "            b = c;\n",
    "            count = count + 1;"
   ]
  },
  {
   "cell_type": "code",
   "execution_count": null,
   "metadata": {},
   "outputs": [],
   "source": []
  }
 ],
 "metadata": {
  "kernelspec": {
   "display_name": "Python 3",
   "language": "python",
   "name": "python3"
  },
  "language_info": {
   "codemirror_mode": {
    "name": "ipython",
    "version": 3
   },
   "file_extension": ".py",
   "mimetype": "text/x-python",
   "name": "python",
   "nbconvert_exporter": "python",
   "pygments_lexer": "ipython3",
   "version": "3.7.6"
  }
 },
 "nbformat": 4,
 "nbformat_minor": 4
}
